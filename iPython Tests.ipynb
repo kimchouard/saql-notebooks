{
 "cells": [
  {
   "cell_type": "markdown",
   "metadata": {},
   "source": [
    "[< Back to homepage](/notebooks/Home.ipynb)\n",
    "\n",
    "# iPython Advanced testing"
   ]
  },
  {
   "cell_type": "code",
   "execution_count": 9,
   "metadata": {
    "collapsed": false
   },
   "outputs": [
    {
     "data": {
      "application/javascript": [
       "\n",
       "function getCookie(cname) {\n",
       "    var name = cname + \"=\";\n",
       "    var ca = document.cookie.split(';');\n",
       "    for(var i=0; i<ca.length; i++) {\n",
       "        var c = ca[i];\n",
       "        while (c.charAt(0)==' ') c = c.substring(1);\n",
       "        if (c.indexOf(name) == 0) return decodeURIComponent(c.substring(name.length,c.length));\n",
       "    }\n",
       "    return \"\";\n",
       "}\n",
       "\n",
       "var command = \"sid = '\" + getCookie('sid') + \"'\\norg = '\" + getCookie('org') + \"'\\nusername = '\" + getCookie('username') + \"'\";\n",
       "console.log(\"Executing Command: \" + command);\n",
       "\n",
       "var kernel = IPython.notebook.kernel;\n",
       "kernel.execute(command);\n"
      ]
     },
     "metadata": {},
     "output_type": "display_data"
    }
   ],
   "source": [
    "%run saql_init.py"
   ]
  },
  {
   "cell_type": "markdown",
   "metadata": {},
   "source": [
    "## Your First SAQL Query\n",
    "\n",
    "SAQL queries are a sequence of steps, much like in a programming language, each of which carries out a single data transformation. Try running the SAQL query bellow:"
   ]
  },
  {
   "cell_type": "code",
   "execution_count": 10,
   "metadata": {
    "collapsed": false
   },
   "outputs": [
    {
     "name": "stdout",
     "output_type": "stream",
     "text": [
      "User \"kim@waverocks.de\" running query on https://na30.salesforce.com\n"
     ]
    },
    {
     "data": {
      "text/html": [
       "<div>\n",
       "<table border=\"1\" class=\"dataframe\">\n",
       "  <thead>\n",
       "    <tr style=\"text-align: right;\">\n",
       "      <th></th>\n",
       "      <th>count</th>\n",
       "    </tr>\n",
       "  </thead>\n",
       "  <tbody>\n",
       "    <tr>\n",
       "      <th>0</th>\n",
       "      <td>706</td>\n",
       "    </tr>\n",
       "  </tbody>\n",
       "</table>\n",
       "</div>"
      ],
      "text/plain": [
       "   count\n",
       "0    706"
      ]
     },
     "execution_count": 10,
     "metadata": {},
     "output_type": "execute_result"
    }
   ],
   "source": [
    "%%saql\n",
    "q = load \"opportunities\";\n",
    "q = group q by all;\n",
    "q = foreach q generate count() as 'count';"
   ]
  },
  {
   "cell_type": "markdown",
   "metadata": {},
   "source": [
    "# Save as a CSV"
   ]
  },
  {
   "cell_type": "code",
   "execution_count": 11,
   "metadata": {
    "collapsed": false
   },
   "outputs": [
    {
     "name": "stdout",
     "output_type": "stream",
     "text": [
      "User \"kim@waverocks.de\" running query on https://na30.salesforce.com\n"
     ]
    },
    {
     "data": {
      "application/javascript": [
       "\n",
       "    var csv = 'Industry,sum_Amount\\nBanking,74618602.0\\nEnergy,63201449.0\\nBiotechnology,60253486.0\\nTechnology,57727272.0\\nApparel,54939473.0\\nEngineering,50796006.0\\nInsurance,50273399.0\\nElectronics,50186896.0\\nEducation,42096223.0\\nConsulting,38802688.0\\nMedia,32009332.0\\nTransportation,30060040.0\\nHealthcare,29962077.0\\nManufacturing,29937378.0\\nAgriculture,29597421.0\\nUtilities,28305480.0\\nRetail,28056719.0\\nTelecommunications,23298160.0\\nFinance,21215667.0\\nCommunications,19053923.0\\n';\n",
       "\n",
       "    var filename = 'saql_results.csv';\n",
       "    var blob = new Blob([csv], { type: 'text/csv;charset=utf-8;' });\n",
       "    if (navigator.msSaveBlob) { // IE 10+\n",
       "        navigator.msSaveBlob(blob, filename);\n",
       "    } else {\n",
       "        var link = document.createElement(\"a\");\n",
       "        if (link.download !== undefined) { // feature detection\n",
       "            // Browsers that support HTML5 download attribute\n",
       "            var url = URL.createObjectURL(blob);\n",
       "            link.setAttribute(\"href\", url);\n",
       "            link.setAttribute(\"download\", filename);\n",
       "            link.style.visibility = 'hidden';\n",
       "            document.body.appendChild(link);\n",
       "            link.click();\n",
       "            document.body.removeChild(link);\n",
       "        }\n",
       "    }\n",
       "    "
      ]
     },
     "metadata": {},
     "output_type": "display_data"
    },
    {
     "data": {
      "text/html": [
       "<div>\n",
       "<table border=\"1\" class=\"dataframe\">\n",
       "  <thead>\n",
       "    <tr style=\"text-align: right;\">\n",
       "      <th></th>\n",
       "      <th>Industry</th>\n",
       "      <th>sum_Amount</th>\n",
       "    </tr>\n",
       "  </thead>\n",
       "  <tbody>\n",
       "    <tr>\n",
       "      <th>0</th>\n",
       "      <td>Banking</td>\n",
       "      <td>74618602.0</td>\n",
       "    </tr>\n",
       "    <tr>\n",
       "      <th>1</th>\n",
       "      <td>Energy</td>\n",
       "      <td>63201449.0</td>\n",
       "    </tr>\n",
       "    <tr>\n",
       "      <th>2</th>\n",
       "      <td>Biotechnology</td>\n",
       "      <td>60253486.0</td>\n",
       "    </tr>\n",
       "    <tr>\n",
       "      <th>3</th>\n",
       "      <td>Technology</td>\n",
       "      <td>57727272.0</td>\n",
       "    </tr>\n",
       "    <tr>\n",
       "      <th>4</th>\n",
       "      <td>Apparel</td>\n",
       "      <td>54939473.0</td>\n",
       "    </tr>\n",
       "    <tr>\n",
       "      <th>5</th>\n",
       "      <td>Engineering</td>\n",
       "      <td>50796006.0</td>\n",
       "    </tr>\n",
       "    <tr>\n",
       "      <th>6</th>\n",
       "      <td>Insurance</td>\n",
       "      <td>50273399.0</td>\n",
       "    </tr>\n",
       "    <tr>\n",
       "      <th>7</th>\n",
       "      <td>Electronics</td>\n",
       "      <td>50186896.0</td>\n",
       "    </tr>\n",
       "    <tr>\n",
       "      <th>8</th>\n",
       "      <td>Education</td>\n",
       "      <td>42096223.0</td>\n",
       "    </tr>\n",
       "    <tr>\n",
       "      <th>9</th>\n",
       "      <td>Consulting</td>\n",
       "      <td>38802688.0</td>\n",
       "    </tr>\n",
       "    <tr>\n",
       "      <th>10</th>\n",
       "      <td>Media</td>\n",
       "      <td>32009332.0</td>\n",
       "    </tr>\n",
       "    <tr>\n",
       "      <th>11</th>\n",
       "      <td>Transportation</td>\n",
       "      <td>30060040.0</td>\n",
       "    </tr>\n",
       "    <tr>\n",
       "      <th>12</th>\n",
       "      <td>Healthcare</td>\n",
       "      <td>29962077.0</td>\n",
       "    </tr>\n",
       "    <tr>\n",
       "      <th>13</th>\n",
       "      <td>Manufacturing</td>\n",
       "      <td>29937378.0</td>\n",
       "    </tr>\n",
       "    <tr>\n",
       "      <th>14</th>\n",
       "      <td>Agriculture</td>\n",
       "      <td>29597421.0</td>\n",
       "    </tr>\n",
       "    <tr>\n",
       "      <th>15</th>\n",
       "      <td>Utilities</td>\n",
       "      <td>28305480.0</td>\n",
       "    </tr>\n",
       "    <tr>\n",
       "      <th>16</th>\n",
       "      <td>Retail</td>\n",
       "      <td>28056719.0</td>\n",
       "    </tr>\n",
       "    <tr>\n",
       "      <th>17</th>\n",
       "      <td>Telecommunications</td>\n",
       "      <td>23298160.0</td>\n",
       "    </tr>\n",
       "    <tr>\n",
       "      <th>18</th>\n",
       "      <td>Finance</td>\n",
       "      <td>21215667.0</td>\n",
       "    </tr>\n",
       "    <tr>\n",
       "      <th>19</th>\n",
       "      <td>Communications</td>\n",
       "      <td>19053923.0</td>\n",
       "    </tr>\n",
       "  </tbody>\n",
       "</table>\n",
       "</div>"
      ],
      "text/plain": [
       "              Industry  sum_Amount\n",
       "0              Banking  74618602.0\n",
       "1               Energy  63201449.0\n",
       "2        Biotechnology  60253486.0\n",
       "3           Technology  57727272.0\n",
       "4              Apparel  54939473.0\n",
       "5          Engineering  50796006.0\n",
       "6            Insurance  50273399.0\n",
       "7          Electronics  50186896.0\n",
       "8            Education  42096223.0\n",
       "9           Consulting  38802688.0\n",
       "10               Media  32009332.0\n",
       "11      Transportation  30060040.0\n",
       "12          Healthcare  29962077.0\n",
       "13       Manufacturing  29937378.0\n",
       "14         Agriculture  29597421.0\n",
       "15           Utilities  28305480.0\n",
       "16              Retail  28056719.0\n",
       "17  Telecommunications  23298160.0\n",
       "18             Finance  21215667.0\n",
       "19      Communications  19053923.0"
      ]
     },
     "execution_count": 11,
     "metadata": {},
     "output_type": "execute_result"
    }
   ],
   "source": [
    "%%saql csv\n",
    "q = load \"opportunities\";\n",
    "q = group q by 'Account.Industry';\n",
    "q = foreach q generate 'Account.Industry' as Industry, sum('Amount') as 'sum_Amount';\n",
    "q = order q by 'sum_Amount' desc; \n",
    "q = limit q 2000;"
   ]
  },
  {
   "cell_type": "code",
   "execution_count": 4,
   "metadata": {
    "collapsed": true
   },
   "outputs": [],
   "source": [
    "industries_revenues = _"
   ]
  },
  {
   "cell_type": "code",
   "execution_count": 5,
   "metadata": {
    "collapsed": false
   },
   "outputs": [
    {
     "data": {
      "text/plain": [
       "<matplotlib.axes.AxesSubplot at 0x10d4588d0>"
      ]
     },
     "execution_count": 5,
     "metadata": {},
     "output_type": "execute_result"
    }
   ],
   "source": [
    "industries_revenues.plot(kind='bar', legend=True, figsize = (15, 5))"
   ]
  },
  {
   "cell_type": "code",
   "execution_count": 6,
   "metadata": {
    "collapsed": false
   },
   "outputs": [
    {
     "data": {
      "text/plain": [
       "Insurance             1\n",
       "Technology            1\n",
       "Consulting            1\n",
       "Transportation        1\n",
       "Finance               1\n",
       "Education             1\n",
       "Energy                1\n",
       "Agriculture           1\n",
       "Utilities             1\n",
       "Retail                1\n",
       "Communications        1\n",
       "Banking               1\n",
       "Engineering           1\n",
       "Media                 1\n",
       "Healthcare            1\n",
       "Apparel               1\n",
       "Biotechnology         1\n",
       "Electronics           1\n",
       "Manufacturing         1\n",
       "Telecommunications    1\n",
       "Name: Industry, dtype: int64"
      ]
     },
     "execution_count": 6,
     "metadata": {},
     "output_type": "execute_result"
    }
   ],
   "source": [
    "industries_revenues['Industry'].value_counts()"
   ]
  },
  {
   "cell_type": "code",
   "execution_count": 390,
   "metadata": {
    "collapsed": false
   },
   "outputs": [
    {
     "data": {
      "text/plain": [
       "<matplotlib.axes.AxesSubplot at 0x7fa4d8512e90>"
      ]
     },
     "execution_count": 390,
     "metadata": {},
     "output_type": "execute_result"
    },
    {
     "data": {
      "image/png": "[encoded data removed]",
      "text/plain": [
       "<matplotlib.figure.Figure at 0x7fa4d84d4ad0>"
      ]
     },
     "metadata": {},
     "output_type": "display_data"
    }
   ],
   "source": [
    "industries_revenues['Industry'].value_counts().plot(kind='bar', legend=True, figsize = (15, 5))"
   ]
  },
  {
   "cell_type": "code",
   "execution_count": 102,
   "metadata": {
    "collapsed": false
   },
   "outputs": [
    {
     "data": {
      "text/html": [
       "<div style=\"max-height:1000px;max-width:1500px;overflow:auto;\">\n",
       "<table border=\"1\" class=\"dataframe\">\n",
       "  <thead>\n",
       "    <tr style=\"text-align: right;\">\n",
       "      <th></th>\n",
       "      <th>sum_Amount</th>\n",
       "    </tr>\n",
       "    <tr>\n",
       "      <th>Industry</th>\n",
       "      <th></th>\n",
       "    </tr>\n",
       "  </thead>\n",
       "  <tbody>\n",
       "    <tr>\n",
       "      <th>Agriculture</th>\n",
       "      <td> 20695307</td>\n",
       "    </tr>\n",
       "    <tr>\n",
       "      <th>Apparel</th>\n",
       "      <td> 47180003</td>\n",
       "    </tr>\n",
       "    <tr>\n",
       "      <th>Banking</th>\n",
       "      <td> 65892584</td>\n",
       "    </tr>\n",
       "    <tr>\n",
       "      <th>Biotechnology</th>\n",
       "      <td> 54785716</td>\n",
       "    </tr>\n",
       "    <tr>\n",
       "      <th>Communications</th>\n",
       "      <td> 24105631</td>\n",
       "    </tr>\n",
       "    <tr>\n",
       "      <th>Consulting</th>\n",
       "      <td> 38357361</td>\n",
       "    </tr>\n",
       "    <tr>\n",
       "      <th>Education</th>\n",
       "      <td> 42047848</td>\n",
       "    </tr>\n",
       "    <tr>\n",
       "      <th>Electronics</th>\n",
       "      <td> 50244759</td>\n",
       "    </tr>\n",
       "    <tr>\n",
       "      <th>Energy</th>\n",
       "      <td> 64652635</td>\n",
       "    </tr>\n",
       "    <tr>\n",
       "      <th>Engineering</th>\n",
       "      <td> 59121156</td>\n",
       "    </tr>\n",
       "    <tr>\n",
       "      <th>Finance</th>\n",
       "      <td> 20211917</td>\n",
       "    </tr>\n",
       "    <tr>\n",
       "      <th>Healthcare</th>\n",
       "      <td> 26962278</td>\n",
       "    </tr>\n",
       "    <tr>\n",
       "      <th>Insurance</th>\n",
       "      <td> 46593820</td>\n",
       "    </tr>\n",
       "    <tr>\n",
       "      <th>Manufacturing</th>\n",
       "      <td> 28503577</td>\n",
       "    </tr>\n",
       "    <tr>\n",
       "      <th>Media</th>\n",
       "      <td> 34243453</td>\n",
       "    </tr>\n",
       "    <tr>\n",
       "      <th>Retail</th>\n",
       "      <td> 25533549</td>\n",
       "    </tr>\n",
       "    <tr>\n",
       "      <th>Technology</th>\n",
       "      <td> 53430452</td>\n",
       "    </tr>\n",
       "    <tr>\n",
       "      <th>Telecommunications</th>\n",
       "      <td> 26341723</td>\n",
       "    </tr>\n",
       "    <tr>\n",
       "      <th>Transportation</th>\n",
       "      <td> 29434600</td>\n",
       "    </tr>\n",
       "    <tr>\n",
       "      <th>Utilities</th>\n",
       "      <td> 20948300</td>\n",
       "    </tr>\n",
       "  </tbody>\n",
       "</table>\n",
       "</div>"
      ],
      "text/plain": [
       "                    sum_Amount\n",
       "Industry                      \n",
       "Agriculture           20695307\n",
       "Apparel               47180003\n",
       "Banking               65892584\n",
       "Biotechnology         54785716\n",
       "Communications        24105631\n",
       "Consulting            38357361\n",
       "Education             42047848\n",
       "Electronics           50244759\n",
       "Energy                64652635\n",
       "Engineering           59121156\n",
       "Finance               20211917\n",
       "Healthcare            26962278\n",
       "Insurance             46593820\n",
       "Manufacturing         28503577\n",
       "Media                 34243453\n",
       "Retail                25533549\n",
       "Technology            53430452\n",
       "Telecommunications    26341723\n",
       "Transportation        29434600\n",
       "Utilities             20948300"
      ]
     },
     "execution_count": 102,
     "metadata": {},
     "output_type": "execute_result"
    }
   ],
   "source": [
    "industries_revenues.groupby('Industry').aggregate(sum)"
   ]
  },
  {
   "cell_type": "code",
   "execution_count": 391,
   "metadata": {
    "collapsed": false
   },
   "outputs": [
    {
     "data": {
      "text/plain": [
       "<matplotlib.axes.AxesSubplot at 0x7fa4d8392e10>"
      ]
     },
     "execution_count": 391,
     "metadata": {},
     "output_type": "execute_result"
    },
    {
     "data": {
      "image/png": "[encoded data removed]",
      "text/plain": [
       "<matplotlib.figure.Figure at 0x7fa4d839db90>"
      ]
     },
     "metadata": {},
     "output_type": "display_data"
    }
   ],
   "source": [
    "industries_revenues.groupby('Industry').aggregate(sum).plot(kind='bar', legend=True, figsize = (15, 5))"
   ]
  },
  {
   "cell_type": "code",
   "execution_count": 18,
   "metadata": {
    "collapsed": false
   },
   "outputs": [
    {
     "name": "stdout",
     "output_type": "stream",
     "text": [
      "Running query on: https://na30.salesforce.com\n"
     ]
    },
    {
     "data": {
      "text/html": [
       "<div>\n",
       "<table border=\"1\" class=\"dataframe\">\n",
       "  <thead>\n",
       "    <tr style=\"text-align: right;\">\n",
       "      <th></th>\n",
       "      <th>CloseDate_Year~~~CloseDate_Quarter</th>\n",
       "      <th>sum_QoQ</th>\n",
       "    </tr>\n",
       "  </thead>\n",
       "  <tbody>\n",
       "    <tr>\n",
       "      <th>0</th>\n",
       "      <td>2015~~~1</td>\n",
       "      <td>NaN</td>\n",
       "    </tr>\n",
       "    <tr>\n",
       "      <th>1</th>\n",
       "      <td>2015~~~2</td>\n",
       "      <td>0.281156</td>\n",
       "    </tr>\n",
       "    <tr>\n",
       "      <th>2</th>\n",
       "      <td>2015~~~3</td>\n",
       "      <td>0.694430</td>\n",
       "    </tr>\n",
       "    <tr>\n",
       "      <th>3</th>\n",
       "      <td>2015~~~4</td>\n",
       "      <td>0.379414</td>\n",
       "    </tr>\n",
       "    <tr>\n",
       "      <th>4</th>\n",
       "      <td>2016~~~1</td>\n",
       "      <td>-0.089058</td>\n",
       "    </tr>\n",
       "    <tr>\n",
       "      <th>5</th>\n",
       "      <td>2016~~~2</td>\n",
       "      <td>-0.152189</td>\n",
       "    </tr>\n",
       "    <tr>\n",
       "      <th>6</th>\n",
       "      <td>2016~~~3</td>\n",
       "      <td>-0.405879</td>\n",
       "    </tr>\n",
       "    <tr>\n",
       "      <th>7</th>\n",
       "      <td>2016~~~4</td>\n",
       "      <td>-0.786054</td>\n",
       "    </tr>\n",
       "  </tbody>\n",
       "</table>\n",
       "</div>"
      ],
      "text/plain": [
       "  CloseDate_Year~~~CloseDate_Quarter   sum_QoQ\n",
       "0                           2015~~~1       NaN\n",
       "1                           2015~~~2  0.281156\n",
       "2                           2015~~~3  0.694430\n",
       "3                           2015~~~4  0.379414\n",
       "4                           2016~~~1 -0.089058\n",
       "5                           2016~~~2 -0.152189\n",
       "6                           2016~~~3 -0.405879\n",
       "7                           2016~~~4 -0.786054"
      ]
     },
     "execution_count": 18,
     "metadata": {},
     "output_type": "execute_result"
    }
   ],
   "source": [
    "%%saql\n",
    "q = load \"opportunities\";\n",
    "q = group q by ('CloseDate_Year', 'CloseDate_Quarter');\n",
    "q = foreach q generate 'CloseDate_Year' + \"~~~\" + 'CloseDate_Quarter' as\n",
    "'CloseDate_Year~~~CloseDate_Quarter', ((sum('Amount') / sum(sum('Amount'))\n",
    "over([-1 .. -1] partition by all order by ('CloseDate_Year',\n",
    "'CloseDate_Quarter'))) - 1) as 'sum_QoQ';"
   ]
  },
  {
   "cell_type": "code",
   "execution_count": null,
   "metadata": {
    "collapsed": true
   },
   "outputs": [],
   "source": []
  }
 ],
 "metadata": {
  "kernelspec": {
   "display_name": "Python 2",
   "language": "python",
   "name": "python2"
  },
  "language_info": {
   "codemirror_mode": {
    "name": "ipython",
    "version": 2
   },
   "file_extension": ".py",
   "mimetype": "text/x-python",
   "name": "python",
   "nbconvert_exporter": "python",
   "pygments_lexer": "ipython2",
   "version": "2.7.10"
  }
 },
 "nbformat": 4,
 "nbformat_minor": 0
}
