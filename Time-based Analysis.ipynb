{
 "cells": [
  {
   "cell_type": "markdown",
   "metadata": {
    "collapsed": false
   },
   "source": [
    "[< Back to homepage](/notebooks/Home.ipynb)\n",
    "\n",
    "# Time Based Analysis\n",
    "\n",
    "Time-based analysis relies heavily on date functions and ranges, which are documented [here](https://developer.salesforce.com/docs/atlas.en-us.bi_dev_guide_eql.meta/bi_dev_guide_eql/bi_eql_functions_date.htm). Some common examples are detailed below."
   ]
  },
  {
   "cell_type": "code",
   "execution_count": 22,
   "metadata": {
    "collapsed": false
   },
   "outputs": [
    {
     "data": {
      "application/javascript": [
       "\n",
       "function getCookie(cname) {\n",
       "    var name = cname + \"=\";\n",
       "    var ca = document.cookie.split(';');\n",
       "    for(var i=0; i<ca.length; i++) {\n",
       "        var c = ca[i];\n",
       "        while (c.charAt(0)==' ') c = c.substring(1);\n",
       "        if (c.indexOf(name) == 0) return decodeURIComponent(c.substring(name.length,c.length));\n",
       "    }\n",
       "    return \"\";\n",
       "}\n",
       "\n",
       "var command = \"sid = '\" + getCookie('sid') + \"'\\norg = '\" + getCookie('org') + \"'\\nusername = '\" + getCookie('username') + \"'\";\n",
       "console.log(\"Executing Command: \" + command);\n",
       "\n",
       "var kernel = IPython.notebook.kernel;\n",
       "kernel.execute(command);\n"
      ]
     },
     "metadata": {},
     "output_type": "display_data"
    }
   ],
   "source": [
    "%run saql_init.py"
   ]
  },
  {
   "cell_type": "markdown",
   "metadata": {},
   "source": [
    "## MTD (Month To Date)\n",
    "Calculate the total value of the opportunities expected to close from the beginning of the month through today.\n"
   ]
  },
  {
   "cell_type": "code",
   "execution_count": 23,
   "metadata": {
    "collapsed": false
   },
   "outputs": [
    {
     "name": "stdout",
     "output_type": "stream",
     "text": [
      "User \"kim@waverocks.de\" running query on https://na30.salesforce.com\n"
     ]
    },
    {
     "data": {
      "text/html": [
       "<div>\n",
       "<table border=\"1\" class=\"dataframe\">\n",
       "  <thead>\n",
       "    <tr style=\"text-align: right;\">\n",
       "      <th></th>\n",
       "      <th>sum_Amount</th>\n",
       "    </tr>\n",
       "  </thead>\n",
       "  <tbody>\n",
       "    <tr>\n",
       "      <th>0</th>\n",
       "      <td>21078458.0</td>\n",
       "    </tr>\n",
       "  </tbody>\n",
       "</table>\n",
       "</div>"
      ],
      "text/plain": [
       "   sum_Amount\n",
       "0  21078458.0"
      ]
     },
     "execution_count": 23,
     "metadata": {},
     "output_type": "execute_result"
    }
   ],
   "source": [
    "%%saql\n",
    "q = load \"opportunities\";\n",
    "q = filter q by date('CloseDate_Year', 'CloseDate_Month', 'CloseDate_Day') in [\"current month\"..\"current day\"];\n",
    "q = group q by all;\n",
    "q = foreach q generate sum('Amount') as 'sum_Amount';"
   ]
  },
  {
   "cell_type": "markdown",
   "metadata": {},
   "source": [
    "The relative date range filters for the beginning of the month through today. As the month or day changes, these keywords will refer to the current month and day.\n",
    "\n",
    "## YTD (Year To Date)\n",
    "\n",
    "Calculate the total value of the opportunities expected to close from the beginning of the year through today."
   ]
  },
  {
   "cell_type": "code",
   "execution_count": 24,
   "metadata": {
    "collapsed": false
   },
   "outputs": [
    {
     "name": "stdout",
     "output_type": "stream",
     "text": [
      "User \"kim@waverocks.de\" running query on https://na30.salesforce.com\n"
     ]
    },
    {
     "data": {
      "text/html": [
       "<div>\n",
       "<table border=\"1\" class=\"dataframe\">\n",
       "  <thead>\n",
       "    <tr style=\"text-align: right;\">\n",
       "      <th></th>\n",
       "      <th>sum_Amount</th>\n",
       "    </tr>\n",
       "  </thead>\n",
       "  <tbody>\n",
       "    <tr>\n",
       "      <th>0</th>\n",
       "      <td>178020414.0</td>\n",
       "    </tr>\n",
       "  </tbody>\n",
       "</table>\n",
       "</div>"
      ],
      "text/plain": [
       "    sum_Amount\n",
       "0  178020414.0"
      ]
     },
     "execution_count": 24,
     "metadata": {},
     "output_type": "execute_result"
    }
   ],
   "source": [
    "%%saql\n",
    "q = load \"opportunities\";\n",
    "q = filter q by date('CloseDate_Year', 'CloseDate_Month', 'CloseDate_Day') in [\"current year\"..\"current day\"];\n",
    "q = group q by all;\n",
    "q = foreach q generate sum('Amount') as 'sum_Amount';"
   ]
  },
  {
   "cell_type": "markdown",
   "metadata": {},
   "source": [
    "## QTD (Quarter To Date)\n",
    "\n",
    "Calculate the total value of the opportunities expected to close from the beginning of the quarter through today."
   ]
  },
  {
   "cell_type": "code",
   "execution_count": 25,
   "metadata": {
    "collapsed": false
   },
   "outputs": [
    {
     "name": "stdout",
     "output_type": "stream",
     "text": [
      "User \"kim@waverocks.de\" running query on https://na30.salesforce.com\n"
     ]
    },
    {
     "data": {
      "text/html": [
       "<div>\n",
       "<table border=\"1\" class=\"dataframe\">\n",
       "  <thead>\n",
       "    <tr style=\"text-align: right;\">\n",
       "      <th></th>\n",
       "      <th>sum_Amount</th>\n",
       "    </tr>\n",
       "  </thead>\n",
       "  <tbody>\n",
       "    <tr>\n",
       "      <th>0</th>\n",
       "      <td>21078458.0</td>\n",
       "    </tr>\n",
       "  </tbody>\n",
       "</table>\n",
       "</div>"
      ],
      "text/plain": [
       "   sum_Amount\n",
       "0  21078458.0"
      ]
     },
     "execution_count": 25,
     "metadata": {},
     "output_type": "execute_result"
    }
   ],
   "source": [
    "%%saql\n",
    "q = load \"opportunities\";\n",
    "q = filter q by date('CloseDate_Year', 'CloseDate_Month', 'CloseDate_Day') in [\"current quarter\"..\"current day\"];\n",
    "q = group q by all;\n",
    "q = foreach q generate sum('Amount') as 'sum_Amount';"
   ]
  },
  {
   "cell_type": "markdown",
   "metadata": {},
   "source": [
    "## QoQ (Quarter over Quarter)\n",
    "Calculate the percent change in total value of the opportunities expected to close for the current quarter compared to last quarter."
   ]
  },
  {
   "cell_type": "code",
   "execution_count": 26,
   "metadata": {
    "collapsed": false
   },
   "outputs": [
    {
     "name": "stdout",
     "output_type": "stream",
     "text": [
      "User \"kim@waverocks.de\" running query on https://na30.salesforce.com\n"
     ]
    },
    {
     "data": {
      "text/html": [
       "<div>\n",
       "<table border=\"1\" class=\"dataframe\">\n",
       "  <thead>\n",
       "    <tr style=\"text-align: right;\">\n",
       "      <th></th>\n",
       "      <th>sum_QoQ</th>\n",
       "    </tr>\n",
       "  </thead>\n",
       "  <tbody>\n",
       "    <tr>\n",
       "      <th>0</th>\n",
       "      <td>-0.152189</td>\n",
       "    </tr>\n",
       "  </tbody>\n",
       "</table>\n",
       "</div>"
      ],
      "text/plain": [
       "    sum_QoQ\n",
       "0 -0.152189"
      ]
     },
     "execution_count": 26,
     "metadata": {},
     "output_type": "execute_result"
    }
   ],
   "source": [
    "%%saql\n",
    "q = load \"opportunities\";\n",
    "curr = filter q by date('CloseDate_Year', 'CloseDate_Month', 'CloseDate_Day') in [\"current quarter\"..\"current quarter\"];\n",
    "prev = filter q by date('CloseDate_Year', 'CloseDate_Month', 'CloseDate_Day') in [\"1 quarter ago\"..\"1 quarter ago\"];\n",
    "QoQ = group curr by all, prev by all;\n",
    "QoQ = foreach QoQ generate (sum(curr['Amount'])/sum(prev['Amount'])) - 1 as 'sum_QoQ';"
   ]
  },
  {
   "cell_type": "markdown",
   "metadata": {},
   "source": [
    "** Query Explanation:**\n",
    "\n",
    "After loading in the opportunity dataset, we split it into two streams. One stream, curr, gets data for the current quarter using the date range `[\"current quarter\"..\"current quarter\"]` which filters for data ranging from the start of the current quarter to the end of the current quarter. The other stream, prev, gets data for the previous quarter. We then bring the two streams back together using a co-group. Since we are trying to calculate the overall QoQ number, we can group by alland then perform the QoQ calculation.\n",
    "\n",
    "### Windowing Alternative\n",
    "\n",
    "Let us see how we can do the same QoQ using Windowing."
   ]
  },
  {
   "cell_type": "code",
   "execution_count": 27,
   "metadata": {
    "collapsed": false
   },
   "outputs": [
    {
     "name": "stdout",
     "output_type": "stream",
     "text": [
      "User \"kim@waverocks.de\" running query on https://na30.salesforce.com\n"
     ]
    },
    {
     "data": {
      "text/html": [
       "<div>\n",
       "<table border=\"1\" class=\"dataframe\">\n",
       "  <thead>\n",
       "    <tr style=\"text-align: right;\">\n",
       "      <th></th>\n",
       "      <th>CloseDate_Year~~~CloseDate_Quarter</th>\n",
       "      <th>sum_QoQ</th>\n",
       "    </tr>\n",
       "  </thead>\n",
       "  <tbody>\n",
       "    <tr>\n",
       "      <th>0</th>\n",
       "      <td>2015~~~1</td>\n",
       "      <td>NaN</td>\n",
       "    </tr>\n",
       "    <tr>\n",
       "      <th>1</th>\n",
       "      <td>2015~~~2</td>\n",
       "      <td>0.281156</td>\n",
       "    </tr>\n",
       "    <tr>\n",
       "      <th>2</th>\n",
       "      <td>2015~~~3</td>\n",
       "      <td>0.694430</td>\n",
       "    </tr>\n",
       "    <tr>\n",
       "      <th>3</th>\n",
       "      <td>2015~~~4</td>\n",
       "      <td>0.379414</td>\n",
       "    </tr>\n",
       "    <tr>\n",
       "      <th>4</th>\n",
       "      <td>2016~~~1</td>\n",
       "      <td>-0.089058</td>\n",
       "    </tr>\n",
       "    <tr>\n",
       "      <th>5</th>\n",
       "      <td>2016~~~2</td>\n",
       "      <td>-0.152189</td>\n",
       "    </tr>\n",
       "    <tr>\n",
       "      <th>6</th>\n",
       "      <td>2016~~~3</td>\n",
       "      <td>-0.405879</td>\n",
       "    </tr>\n",
       "    <tr>\n",
       "      <th>7</th>\n",
       "      <td>2016~~~4</td>\n",
       "      <td>-0.786054</td>\n",
       "    </tr>\n",
       "  </tbody>\n",
       "</table>\n",
       "</div>"
      ],
      "text/plain": [
       "  CloseDate_Year~~~CloseDate_Quarter   sum_QoQ\n",
       "0                           2015~~~1       NaN\n",
       "1                           2015~~~2  0.281156\n",
       "2                           2015~~~3  0.694430\n",
       "3                           2015~~~4  0.379414\n",
       "4                           2016~~~1 -0.089058\n",
       "5                           2016~~~2 -0.152189\n",
       "6                           2016~~~3 -0.405879\n",
       "7                           2016~~~4 -0.786054"
      ]
     },
     "execution_count": 27,
     "metadata": {},
     "output_type": "execute_result"
    }
   ],
   "source": [
    "%%saql\n",
    "q = load \"opportunities\";\n",
    "q = group q by ('CloseDate_Year', 'CloseDate_Quarter');\n",
    "q = foreach q generate 'CloseDate_Year' + \"~~~\" + 'CloseDate_Quarter' as 'CloseDate_Year~~~CloseDate_Quarter',\n",
    "    ((sum('Amount') / sum(sum('Amount')) over([-1 .. -1] partition by all order by ('CloseDate_Year', 'CloseDate_Quarter'))) - 1) as 'sum_QoQ';"
   ]
  },
  {
   "cell_type": "code",
   "execution_count": null,
   "metadata": {
    "collapsed": false
   },
   "outputs": [],
   "source": []
  }
 ],
 "metadata": {
  "kernelspec": {
   "display_name": "Python 2",
   "language": "python",
   "name": "python2"
  },
  "language_info": {
   "codemirror_mode": {
    "name": "ipython",
    "version": 2
   },
   "file_extension": ".py",
   "mimetype": "text/x-python",
   "name": "python",
   "nbconvert_exporter": "python",
   "pygments_lexer": "ipython2",
   "version": "2.7.10"
  }
 },
 "nbformat": 4,
 "nbformat_minor": 0
}
