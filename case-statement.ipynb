{
 "cells": [
  {
   "cell_type": "markdown",
   "metadata": {},
   "source": [
    "# Case Statement\n",
    "\n",
    "Here is a simple query using a simple group by:"
   ]
  },
  {
   "cell_type": "code",
   "execution_count": 25,
   "metadata": {
    "collapsed": false
   },
   "outputs": [
    {
     "name": "stdout",
     "output_type": "stream",
     "text": [
      "User \"kim@waverocks.de\" running query on https://na30.salesforce.com\n"
     ]
    },
    {
     "data": {
      "text/html": [
       "<div>\n",
       "<table border=\"1\" class=\"dataframe\">\n",
       "  <thead>\n",
       "    <tr style=\"text-align: right;\">\n",
       "      <th></th>\n",
       "      <th>Type</th>\n",
       "      <th>sum_Amount</th>\n",
       "    </tr>\n",
       "  </thead>\n",
       "  <tbody>\n",
       "    <tr>\n",
       "      <th>0</th>\n",
       "      <td>Existing Business</td>\n",
       "      <td>164608134.0</td>\n",
       "    </tr>\n",
       "    <tr>\n",
       "      <th>1</th>\n",
       "      <td>New Business</td>\n",
       "      <td>374465875.0</td>\n",
       "    </tr>\n",
       "    <tr>\n",
       "      <th>2</th>\n",
       "      <td>New Business / Add-on</td>\n",
       "      <td>266316639.0</td>\n",
       "    </tr>\n",
       "  </tbody>\n",
       "</table>\n",
       "</div>"
      ],
      "text/plain": [
       "                    Type   sum_Amount\n",
       "0      Existing Business  164608134.0\n",
       "1           New Business  374465875.0\n",
       "2  New Business / Add-on  266316639.0"
      ]
     },
     "execution_count": 25,
     "metadata": {},
     "output_type": "execute_result"
    }
   ],
   "source": [
    "%%saql\n",
    "q = load \"opportunities\";\n",
    "q = group q by ('Type');\n",
    "q = foreach q generate 'Type', sum('Amount') as 'sum_Amount';"
   ]
  },
  {
   "cell_type": "markdown",
   "metadata": {},
   "source": [
    "You might want to bucket the result on the fly. For example, how could you group both `New Business` and `New Business / Add-on` as `New` and rename `Existing Business` as `Old Business`? That's when you need to use the `case` statement!\n",
    "\n",
    "## Binning\n",
    "\n",
    "Binning is a technique used to group values (either dimensions or measures) into a smaller number of “bins”. In the following example, we bucket all records that have Type equals to “Services” or has word “New” as “New”. All the records that have word “Business” in the Type as “Old” and all other types are bucketed as “Other”. When this query executes, we get a new dimension called Type_Bucket that does not exist in the source dataset. Also, note that the order of the conditions is important. For example, the Type value “New Business” will be bucketed as “New Business” and not “Old Business” because the condition 'Type' matches \"New \"occurs before 'Type' matches \"Business\"."
   ]
  },
  {
   "cell_type": "code",
   "execution_count": 24,
   "metadata": {
    "collapsed": false
   },
   "outputs": [
    {
     "name": "stdout",
     "output_type": "stream",
     "text": [
      "User \"kim@waverocks.de\" running query on https://na30.salesforce.com\n"
     ]
    },
    {
     "data": {
      "text/html": [
       "<div>\n",
       "<table border=\"1\" class=\"dataframe\">\n",
       "  <thead>\n",
       "    <tr style=\"text-align: right;\">\n",
       "      <th></th>\n",
       "      <th>Type_Bucket</th>\n",
       "      <th>sum_Amount</th>\n",
       "    </tr>\n",
       "  </thead>\n",
       "  <tbody>\n",
       "    <tr>\n",
       "      <th>0</th>\n",
       "      <td>New</td>\n",
       "      <td>640782514.0</td>\n",
       "    </tr>\n",
       "    <tr>\n",
       "      <th>1</th>\n",
       "      <td>Old Business</td>\n",
       "      <td>164608134.0</td>\n",
       "    </tr>\n",
       "  </tbody>\n",
       "</table>\n",
       "</div>"
      ],
      "text/plain": [
       "    Type_Bucket   sum_Amount\n",
       "0           New  640782514.0\n",
       "1  Old Business  164608134.0"
      ]
     },
     "execution_count": 24,
     "metadata": {},
     "output_type": "execute_result"
    }
   ],
   "source": [
    "%%saql\n",
    "q = load \"opportunities\";\n",
    "q = foreach q generate (case\n",
    "        when 'Type' matches \"New\" or 'Type' == \"Services\" then \"New\"\n",
    "        when 'Type' matches \"Business\" then \"Old Business\"\n",
    "        else \"Other\"\n",
    "    end) as 'Type_Bucket', 'Amount';\n",
    "q = group q by ('Type_Bucket');\n",
    "q = foreach q generate 'Type_Bucket', sum('Amount') as 'sum_Amount';"
   ]
  },
  {
   "cell_type": "markdown",
   "metadata": {},
   "source": [
    "## Threshold\n",
    "\n",
    "In this example, a visual indication is given when a threshold value is reached using the traffic light metaphor. The SAQL shown backs a donut chart with a grouped by dimension ‘RAG’ with various values Red, Amber, Green, which indicates the threshold segmentation reached. An XMD entry is used to assign the color to the dimension value. The key performance indicators are Quota Attainment which correspond to the Total Percentage Achieved of revenue against the target; the SAQL makes use of those KPI steps when calculating the thresholds.\n",
    "\n",
    "**Source step:** \n",
    "\n",
    "```json\n",
    "\"TotalActual__c_7\": {\n",
    "    \"selectMode\": \"single\",\n",
    "    \"query\": {\n",
    "        \"measures\": [\n",
    "            [\n",
    "                \"sum\",\n",
    "                \"TotalActual__c\"\n",
    "            ]\n",
    "        ]\n",
    "    },\n",
    "    \"datasets\":[\n",
    "        { \"name\": \"Sales_Target\" }\n",
    "    ],\n",
    "    \"visualizationParameters\": {\n",
    "        \"visualizationType\": \"hbar\"\n",
    "    },\n",
    "    \"isGlobal\": false,\n",
    "    \"start\": null,\n",
    "    \"useGlobal\": true,\n",
    "    \"type\": \"aggregate\",\n",
    "    \"isFacet\": true\n",
    "}\n",
    "```\n",
    "\n",
    "And here is the SAQL query (the quota is hardcoded here but you could pull it from another dataset):"
   ]
  },
  {
   "cell_type": "code",
   "execution_count": 31,
   "metadata": {
    "collapsed": false
   },
   "outputs": [
    {
     "name": "stdout",
     "output_type": "stream",
     "text": [
      "User \"kim@waverocks.de\" running query on https://na30.salesforce.com\n"
     ]
    },
    {
     "data": {
      "text/html": [
       "<div>\n",
       "<table border=\"1\" class=\"dataframe\">\n",
       "  <thead>\n",
       "    <tr style=\"text-align: right;\">\n",
       "      <th></th>\n",
       "      <th>RAG</th>\n",
       "      <th>quota_Attainment</th>\n",
       "    </tr>\n",
       "  </thead>\n",
       "  <tbody>\n",
       "    <tr>\n",
       "      <th>0</th>\n",
       "      <td>Amber</td>\n",
       "      <td>89.48785</td>\n",
       "    </tr>\n",
       "  </tbody>\n",
       "</table>\n",
       "</div>"
      ],
      "text/plain": [
       "     RAG  quota_Attainment\n",
       "0  Amber          89.48785"
      ]
     },
     "execution_count": 31,
     "metadata": {},
     "output_type": "execute_result"
    }
   ],
   "source": [
    "%%saql\n",
    "q = load \"opportunities\";\n",
    "q = group q by all;\n",
    "q = foreach q generate (sum('Amount') / 900000000) * 100 as 'quota_Attainment';\n",
    "q =foreach q generate 'quota_Attainment',\n",
    "    (case\n",
    "        when 'quota_Attainment' >= 100 then \"Green\"\n",
    "        when 'quota_Attainment' < 100 && 'quota_Attainment' > 60 then \"Amber\"\n",
    "        else \"Red\"\n",
    "    end ) as 'RAG';"
   ]
  },
  {
   "cell_type": "markdown",
   "metadata": {},
   "source": [
    "The following needs to be added to the XMD file to set threshold colors created in the above\n",
    "query.\n",
    "\n",
    "```json\n",
    "\"colors\": {\n",
    "    \"RAG\": {\n",
    "        \"Red\": \"#FF3030\",\n",
    "        \"Green\": \"#008B00\",\n",
    "        \"Amber\": \"#FFD700\"\n",
    "    }\n",
    "}\n",
    "```\n",
    "\n",
    "Here is how it would look:\n",
    "\n",
    "![Salesforce Overview](/images/case/dashboard-example.jpg)"
   ]
  },
  {
   "cell_type": "markdown",
   "metadata": {
    "collapsed": true
   },
   "source": [
    "[>> Time-based Analysis](/notebooks/time-based-analysis)"
   ]
  }
 ],
 "metadata": {
  "kernelspec": {
   "display_name": "Python 3",
   "language": "python",
   "name": "python3"
  },
  "language_info": {
   "codemirror_mode": {
    "name": "ipython",
    "version": 3
   },
   "file_extension": ".py",
   "mimetype": "text/x-python",
   "name": "python",
   "nbconvert_exporter": "python",
   "pygments_lexer": "ipython3",
   "version": "3.5.1"
  }
 },
 "nbformat": 4,
 "nbformat_minor": 0
}
