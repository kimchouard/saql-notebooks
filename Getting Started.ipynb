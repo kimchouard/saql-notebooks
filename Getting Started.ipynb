{
 "cells": [
  {
   "cell_type": "markdown",
   "metadata": {
    "collapsed": true
   },
   "source": [
    "*This is an interactive guide walking you through basics of SAQL, up to most advanced and powerful possibilities of Wave Analytics.*\n",
    "\n",
    "[< Back to homepage](/notebooks/Home.ipynb)\n",
    "\n",
    "# Getting Started\n",
    "**S**alesforce **A**nalytics **Q**uery **L**anguage (**SAQL**) is the official query language of Wave Analytics Cloud. Almost every action you take in the Analytics Cloud results in one or more SAQL queries. Every lens, dashboard, and explorer action generates and executes a SAQL statement to build the data needed for the visualisation.\n",
    "\n",
    "## Your First SAQL Query\n",
    "\n",
    "SAQL queries are a sequence of steps, much like in a programming language, each of which carries out a single data transformation.\n",
    "\n",
    "Let's get the count of all opportunities by running our first SAQL query. Click ![execute](/images/execute.png) in the toolbar (or `Shift+Enter`):"
   ]
  },
  {
   "cell_type": "code",
   "execution_count": 3,
   "metadata": {
    "collapsed": false
   },
   "outputs": [
    {
     "name": "stdout",
     "output_type": "stream",
     "text": [
      "No OAuth information. Make sure you have runned the \"%run saql_init.py\".\n"
     ]
    }
   ],
   "source": [
    "%%saql\n",
    "q = load \"opportunities\";\n",
    "q = group q by all;\n",
    "q = foreach q generate count() as 'count';"
   ]
  },
  {
   "cell_type": "markdown",
   "metadata": {},
   "source": [
    "### Query Explaination\n",
    "\n",
    "The query is composed of 3 basic steps:\n",
    "\n",
    "- `q = load \"opportunities\";`\n",
    "\n",
    "This first step will load the dataset you're interested in. You can then use it by using the `q` variable in the following lines.\n",
    "\n",
    "- `q = group q by all;`\n",
    "\n",
    "As we want the count of **all** opportunities, we need to specify the there is not grouping, i.e. grouping `by all`.\n",
    "\n",
    "- `q = foreach q generate count() as 'count';`\n",
    "\n",
    "Last, but not least, as it is this line that will generate the output of your query. Here we are simply counting the number of lines, i.e. of opportunities.\n",
    "\n",
    "**N.B.:** If your query don't finish by a `foreach X generate ...` statement, your query will be invalid as it won't return any results. Try it out yourself, remove the last line of the query above and run it! (or press shift+enter) You should receive a 'no query to run' error."
   ]
  },
  {
   "cell_type": "markdown",
   "metadata": {
    "collapsed": true
   },
   "source": [
    "# Grouping By"
   ]
  },
  {
   "cell_type": "markdown",
   "metadata": {},
   "source": [
    "(blah blah blah...)"
   ]
  },
  {
   "cell_type": "code",
   "execution_count": 21,
   "metadata": {
    "collapsed": false
   },
   "outputs": [
    {
     "name": "stdout",
     "output_type": "stream",
     "text": [
      "User \"kim@waverocks.de\" running query on https://na30.salesforce.com\n"
     ]
    },
    {
     "data": {
      "text/html": [
       "<div>\n",
       "<table border=\"1\" class=\"dataframe\">\n",
       "  <thead>\n",
       "    <tr style=\"text-align: right;\">\n",
       "      <th></th>\n",
       "      <th>Industry</th>\n",
       "      <th>sum_Amount</th>\n",
       "    </tr>\n",
       "  </thead>\n",
       "  <tbody>\n",
       "    <tr>\n",
       "      <th>0</th>\n",
       "      <td>Banking</td>\n",
       "      <td>74618602.0</td>\n",
       "    </tr>\n",
       "    <tr>\n",
       "      <th>1</th>\n",
       "      <td>Energy</td>\n",
       "      <td>63201449.0</td>\n",
       "    </tr>\n",
       "    <tr>\n",
       "      <th>2</th>\n",
       "      <td>Biotechnology</td>\n",
       "      <td>60253486.0</td>\n",
       "    </tr>\n",
       "    <tr>\n",
       "      <th>3</th>\n",
       "      <td>Technology</td>\n",
       "      <td>57727272.0</td>\n",
       "    </tr>\n",
       "    <tr>\n",
       "      <th>4</th>\n",
       "      <td>Apparel</td>\n",
       "      <td>54939473.0</td>\n",
       "    </tr>\n",
       "    <tr>\n",
       "      <th>5</th>\n",
       "      <td>Engineering</td>\n",
       "      <td>50796006.0</td>\n",
       "    </tr>\n",
       "    <tr>\n",
       "      <th>6</th>\n",
       "      <td>Insurance</td>\n",
       "      <td>50273399.0</td>\n",
       "    </tr>\n",
       "    <tr>\n",
       "      <th>7</th>\n",
       "      <td>Electronics</td>\n",
       "      <td>50186896.0</td>\n",
       "    </tr>\n",
       "    <tr>\n",
       "      <th>8</th>\n",
       "      <td>Education</td>\n",
       "      <td>42096223.0</td>\n",
       "    </tr>\n",
       "    <tr>\n",
       "      <th>9</th>\n",
       "      <td>Consulting</td>\n",
       "      <td>38802688.0</td>\n",
       "    </tr>\n",
       "    <tr>\n",
       "      <th>10</th>\n",
       "      <td>Media</td>\n",
       "      <td>32009332.0</td>\n",
       "    </tr>\n",
       "    <tr>\n",
       "      <th>11</th>\n",
       "      <td>Transportation</td>\n",
       "      <td>30060040.0</td>\n",
       "    </tr>\n",
       "    <tr>\n",
       "      <th>12</th>\n",
       "      <td>Healthcare</td>\n",
       "      <td>29962077.0</td>\n",
       "    </tr>\n",
       "    <tr>\n",
       "      <th>13</th>\n",
       "      <td>Manufacturing</td>\n",
       "      <td>29937378.0</td>\n",
       "    </tr>\n",
       "    <tr>\n",
       "      <th>14</th>\n",
       "      <td>Agriculture</td>\n",
       "      <td>29597421.0</td>\n",
       "    </tr>\n",
       "    <tr>\n",
       "      <th>15</th>\n",
       "      <td>Utilities</td>\n",
       "      <td>28305480.0</td>\n",
       "    </tr>\n",
       "    <tr>\n",
       "      <th>16</th>\n",
       "      <td>Retail</td>\n",
       "      <td>28056719.0</td>\n",
       "    </tr>\n",
       "    <tr>\n",
       "      <th>17</th>\n",
       "      <td>Telecommunications</td>\n",
       "      <td>23298160.0</td>\n",
       "    </tr>\n",
       "    <tr>\n",
       "      <th>18</th>\n",
       "      <td>Finance</td>\n",
       "      <td>21215667.0</td>\n",
       "    </tr>\n",
       "    <tr>\n",
       "      <th>19</th>\n",
       "      <td>Communications</td>\n",
       "      <td>19053923.0</td>\n",
       "    </tr>\n",
       "  </tbody>\n",
       "</table>\n",
       "</div>"
      ],
      "text/plain": [
       "              Industry  sum_Amount\n",
       "0              Banking  74618602.0\n",
       "1               Energy  63201449.0\n",
       "2        Biotechnology  60253486.0\n",
       "3           Technology  57727272.0\n",
       "4              Apparel  54939473.0\n",
       "5          Engineering  50796006.0\n",
       "6            Insurance  50273399.0\n",
       "7          Electronics  50186896.0\n",
       "8            Education  42096223.0\n",
       "9           Consulting  38802688.0\n",
       "10               Media  32009332.0\n",
       "11      Transportation  30060040.0\n",
       "12          Healthcare  29962077.0\n",
       "13       Manufacturing  29937378.0\n",
       "14         Agriculture  29597421.0\n",
       "15           Utilities  28305480.0\n",
       "16              Retail  28056719.0\n",
       "17  Telecommunications  23298160.0\n",
       "18             Finance  21215667.0\n",
       "19      Communications  19053923.0"
      ]
     },
     "execution_count": 21,
     "metadata": {},
     "output_type": "execute_result"
    }
   ],
   "source": [
    "%%saql\n",
    "q = load \"opportunities\";\n",
    "q = group q by 'Account.Industry';\n",
    "q = foreach q generate 'Account.Industry' as Industry, sum('Amount') as 'sum_Amount';\n",
    "q = order q by 'sum_Amount' desc; \n",
    "q = limit q 2000;"
   ]
  },
  {
   "cell_type": "code",
   "execution_count": null,
   "metadata": {
    "collapsed": true
   },
   "outputs": [],
   "source": []
  }
 ],
 "metadata": {
  "kernelspec": {
   "display_name": "Python 2",
   "language": "python",
   "name": "python2"
  },
  "language_info": {
   "codemirror_mode": {
    "name": "ipython",
    "version": 2
   },
   "file_extension": ".py",
   "mimetype": "text/x-python",
   "name": "python",
   "nbconvert_exporter": "python",
   "pygments_lexer": "ipython2",
   "version": "2.7.10"
  }
 },
 "nbformat": 4,
 "nbformat_minor": 0
}
