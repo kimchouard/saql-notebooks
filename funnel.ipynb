{
 "cells": [
  {
   "cell_type": "markdown",
   "metadata": {},
   "source": [
    "*This is an interactive guide walking you through basics of SAQL, up to most advanced and powerful possibilities of Wave Analytics.*\n",
    "\n",
    "[< Back to homepage](/notebooks)\n",
    "\n",
    "# Using Funnel Charts\n",
    "\n",
    "A simple funnel is not very different from a single bar stacked-bar chart where the size of a slice indicates the volume of that stage and its relation to the other stages in that stack. \n",
    "To create a simple Wave funnel chart in Explorer, select a measure like sum of amount and group by Stage. Clip this lens to your dashboard and change chart type to funnel.\n",
    "\n",
    "Unlike a stacked bar, the order of stages is important in a funnel chart though. An easy way to set order is to name stages with a preceding number to indicate its order in the list. For example: \"0-Lead\", \"4-Closed Won\", etc. The stage renaming can be done either through the dataflow or via SAQL.\n",
    "\n",
    "## Stage Renaming\n",
    "\n",
    "### In the Dataflow\n",
    "\n",
    "It's possible to rename the Stage using computeExpression action in the dataflow. If desired, labels can be changed from \"0-Lead\" to \"Lead\" in the user XMD.  More information on XMD key labels can be found in the Extended Metadata (XMD) Reference.\n",
    "\n",
    "### In SAQL\n",
    "\n",
    "The stage renaming can also be done on the fly in SAQL, here is an example:"
   ]
  },
  {
   "cell_type": "code",
   "execution_count": 3,
   "metadata": {
    "collapsed": false
   },
   "outputs": [
    {
     "name": "stdout",
     "output_type": "stream",
     "text": [
      "User \"kim@waverocks.de\" running query on https://na30.salesforce.com\n"
     ]
    },
    {
     "data": {
      "text/html": [
       "<div>\n",
       "<table border=\"1\" class=\"dataframe\">\n",
       "  <thead>\n",
       "    <tr style=\"text-align: right;\">\n",
       "      <th></th>\n",
       "      <th>StageName</th>\n",
       "      <th>sum_Amount</th>\n",
       "    </tr>\n",
       "  </thead>\n",
       "  <tbody>\n",
       "    <tr>\n",
       "      <th>0</th>\n",
       "      <td>0 - Prospecting</td>\n",
       "      <td>24597662.0</td>\n",
       "    </tr>\n",
       "    <tr>\n",
       "      <th>1</th>\n",
       "      <td>1 - Qualification</td>\n",
       "      <td>53942843.0</td>\n",
       "    </tr>\n",
       "    <tr>\n",
       "      <th>2</th>\n",
       "      <td>2 - Needs Analysis</td>\n",
       "      <td>64842060.0</td>\n",
       "    </tr>\n",
       "    <tr>\n",
       "      <th>3</th>\n",
       "      <td>3 - Perception Analysis</td>\n",
       "      <td>38981892.0</td>\n",
       "    </tr>\n",
       "    <tr>\n",
       "      <th>4</th>\n",
       "      <td>4 - Proposal/Price Quote</td>\n",
       "      <td>15889140.0</td>\n",
       "    </tr>\n",
       "    <tr>\n",
       "      <th>5</th>\n",
       "      <td>5 - Negotiation/Review</td>\n",
       "      <td>17044891.0</td>\n",
       "    </tr>\n",
       "    <tr>\n",
       "      <th>6</th>\n",
       "      <td>7 - Closed Lost</td>\n",
       "      <td>146398939.0</td>\n",
       "    </tr>\n",
       "    <tr>\n",
       "      <th>7</th>\n",
       "      <td>7 - Closed Won</td>\n",
       "      <td>431338929.0</td>\n",
       "    </tr>\n",
       "    <tr>\n",
       "      <th>8</th>\n",
       "      <td>N/A</td>\n",
       "      <td>29715331.0</td>\n",
       "    </tr>\n",
       "  </tbody>\n",
       "</table>\n",
       "</div>"
      ],
      "text/plain": [
       "                  StageName   sum_Amount\n",
       "0           0 - Prospecting   24597662.0\n",
       "1         1 - Qualification   53942843.0\n",
       "2        2 - Needs Analysis   64842060.0\n",
       "3   3 - Perception Analysis   38981892.0\n",
       "4  4 - Proposal/Price Quote   15889140.0\n",
       "5    5 - Negotiation/Review   17044891.0\n",
       "6           7 - Closed Lost  146398939.0\n",
       "7            7 - Closed Won  431338929.0\n",
       "8                       N/A   29715331.0"
      ]
     },
     "execution_count": 3,
     "metadata": {},
     "output_type": "execute_result"
    }
   ],
   "source": [
    "%%saql\n",
    "q = load \"opportunities\";\n",
    "q = foreach q generate (case\n",
    "        when 'StageName' == \"Prospecting\" then \"0 - Prospecting\"\n",
    "        when 'StageName' == \"Qualification\" then \"1 - Qualification\"\n",
    "        when 'StageName' == \"Needs Analysis\" then \"2 - Needs Analysis\"\n",
    "        when 'StageName' == \"Perception Analysis\" then \"3 - Perception Analysis\"\n",
    "        when 'StageName' == \"Proposal/Price Quote\" then \"4 - Proposal/Price Quote\"\n",
    "        when 'StageName' == \"Negotiation/Review\" then \"5 - Negotiation/Review\"\n",
    "        when 'StageName' == \"Negotiation/Review\" then \"6 - Negotiation/Review\"\n",
    "        when 'StageName' == \"Closed Won\" then \"7 - Closed Won\"\n",
    "        when 'StageName' == \"Closed Lost\" then \"7 - Closed Lost\"\n",
    "        else \"N/A\"\n",
    "    end) as 'StageName', 'Amount';\n",
    "q = group q by ('StageName');\n",
    "q = foreach q generate 'StageName', sum('Amount') as 'sum_Amount';\n",
    "q = order q by 'StageName';"
   ]
  },
  {
   "cell_type": "markdown",
   "metadata": {},
   "source": [
    "And here is the related JSON query object for the dashboard:\n",
    "\n",
    "```json\n",
    "\"query\": {\n",
    "    \"pigql\": \"q = load \\\"opportunities\\\"; q = foreach q generate (case  when 'StageName' == \\\"Prospecting\\\" then \\\"0 - Prospecting\\\"  when 'StageName' == \\\"Qualification\\\" then \\\"1 - Qualification\\\"  when 'StageName' == \\\"Needs Analysis\\\" then \\\"2 - Needs Analysis\\\"  when 'StageName' == \\\"Perception Analysis\\\" then \\\"3 - Perception Analysis\\\"  when 'StageName' == \\\"Proposal/Price Quote\\\" then \\\"4 - Proposal/Price Quote\\\"  when 'StageName' == \\\"Negotiation/Review\\\" then \\\"5 - Negotiation/Review\\\"  when 'StageName' == \\\"Negotiation/Review\\\" then \\\"6 - Negotiation/Review\\\"  when 'StageName' == \\\"Closed Won\\\" then \\\"7 - Closed Won\\\"  when 'StageName' == \\\"Closed Lost\\\" then \\\"7 - Closed Lost\\\"  else \\\"N/A\\\"  end) as 'StageName', 'Amount'; q = group q by ('StageName'); q = foreach q generate 'StageName' as 'StageName', sum('Amount') as 'sum_Amount'; q = order q by 'StageName';\",\n",
    "    \"measures\": [\n",
    "        [\n",
    "            \"sum\",\n",
    "            \"Amount\"\n",
    "        ]\n",
    "    ],\n",
    "    \"groups\": [\n",
    "        \"StageName\"\n",
    "    ]\n",
    "},\n",
    "```"
   ]
  }
 ],
 "metadata": {
  "kernelspec": {
   "display_name": "Python 3",
   "language": "python",
   "name": "python3"
  },
  "language_info": {
   "codemirror_mode": {
    "name": "ipython",
    "version": 3
   },
   "file_extension": ".py",
   "mimetype": "text/x-python",
   "name": "python",
   "nbconvert_exporter": "python",
   "pygments_lexer": "ipython3",
   "version": "3.5.1"
  }
 },
 "nbformat": 4,
 "nbformat_minor": 0
}
