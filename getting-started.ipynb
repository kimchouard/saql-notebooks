{
 "cells": [
  {
   "cell_type": "markdown",
   "metadata": {
    "collapsed": true
   },
   "source": [
    "*This is an interactive guide walking you through basics of SAQL, up to most advanced and powerful possibilities of Wave Analytics.*\n",
    "\n",
    "[< Back to homepage](/notebooks)\n",
    "\n",
    "# Getting Started\n",
    "**S**alesforce **A**nalytics **Q**uery **L**anguage (**SAQL**) is the official query language of Wave Analytics Cloud. Almost every action you take in the Analytics Cloud results in one or more SAQL queries. Every lens, dashboard, and explorer action generates and executes a SAQL statement to build the data needed for the visualisation.\n",
    "\n",
    "## Your First SAQL Query\n",
    "\n",
    "SAQL queries are a sequence of steps, much like in a programming language, each of which carries out a single data transformation.\n",
    "\n",
    "Let's get the count of all opportunities by running our first SAQL query."
   ]
  },
  {
   "cell_type": "code",
   "execution_count": 1,
   "metadata": {
    "collapsed": false
   },
   "outputs": [
    {
     "name": "stdout",
     "output_type": "stream",
     "text": [
      "User \"kim@waverocks.de\" running query on https://na30.salesforce.com\n"
     ]
    },
    {
     "data": {
      "text/html": [
       "<div>\n",
       "<table border=\"1\" class=\"dataframe\">\n",
       "  <thead>\n",
       "    <tr style=\"text-align: right;\">\n",
       "      <th></th>\n",
       "      <th>count</th>\n",
       "    </tr>\n",
       "  </thead>\n",
       "  <tbody>\n",
       "    <tr>\n",
       "      <th>0</th>\n",
       "      <td>706</td>\n",
       "    </tr>\n",
       "  </tbody>\n",
       "</table>\n",
       "</div>"
      ],
      "text/plain": [
       "   count\n",
       "0    706"
      ]
     },
     "execution_count": 1,
     "metadata": {},
     "output_type": "execute_result"
    }
   ],
   "source": [
    "%%saql\n",
    "q = load \"opportunities\";\n",
    "q = group q by all;\n",
    "q = foreach q generate count() as 'count';"
   ]
  },
  {
   "cell_type": "markdown",
   "metadata": {},
   "source": [
    "### Query Explaination\n",
    "\n",
    "The SAQL queries are computed line by line. This query is composed of 3 basic steps:\n",
    "\n",
    "- `q = load \"opportunities\";`\n",
    "\n",
    "This first step will load the dataset you're interested in. You can then use it by using the `q` variable in the following lines.\n",
    "\n",
    "- `q = group q by all;`\n",
    "\n",
    "As we want the count of **all** opportunities, we need to specify the there is not grouping, i.e. grouping `by all`.\n",
    "\n",
    "- `q = foreach q generate count() as 'count';`\n",
    "\n",
    "Last, but not least, as it is this line that will generate the output of your query. Here we are simply counting the number of lines, i.e. of opportunities.\n",
    "\n",
    "**N.B.:** If your query don't finish by a `foreach X generate ...` statement, your query will be invalid as it won't return any results. Try it out yourself, remove the last line of the query above and run it! You should receive a 'no query to run' error.\n",
    "\n",
    "## Aggregate Function\n",
    "\n",
    "In the last example, we've counted the number of opportunities. Overall, you might be more interested into doing some calculation on the Amount measure of each opportunities. That's when [aggregate functions](https://developer.salesforce.com/docs/atlas.en-us.202.0.bi_dev_guide_saql.meta/bi_dev_guide_saql/bi_saql_functions_aggregate.htm) comes in.\n",
    "\n",
    "You can do `sum`, `avg` and all sort of calculations on a measure. Look at this example for Amount:"
   ]
  },
  {
   "cell_type": "code",
   "execution_count": 2,
   "metadata": {
    "collapsed": false
   },
   "outputs": [
    {
     "name": "stdout",
     "output_type": "stream",
     "text": [
      "User \"kim@waverocks.de\" running query on https://na30.salesforce.com\n"
     ]
    },
    {
     "data": {
      "text/html": [
       "<div>\n",
       "<table border=\"1\" class=\"dataframe\">\n",
       "  <thead>\n",
       "    <tr style=\"text-align: right;\">\n",
       "      <th></th>\n",
       "      <th>sum_Amount</th>\n",
       "    </tr>\n",
       "  </thead>\n",
       "  <tbody>\n",
       "    <tr>\n",
       "      <th>0</th>\n",
       "      <td>805390648.0</td>\n",
       "    </tr>\n",
       "  </tbody>\n",
       "</table>\n",
       "</div>"
      ],
      "text/plain": [
       "    sum_Amount\n",
       "0  805390648.0"
      ]
     },
     "execution_count": 2,
     "metadata": {},
     "output_type": "execute_result"
    }
   ],
   "source": [
    "%%saql\n",
    "q = load \"opportunities\";\n",
    "q = group q by all;\n",
    "q = foreach q generate sum('Amount') as 'sum_Amount';"
   ]
  },
  {
   "cell_type": "markdown",
   "metadata": {
    "collapsed": true
   },
   "source": [
    "**NB:** Don't forget that there is a lot of other functions you can use. See the [list here](https://developer.salesforce.com/docs/atlas.en-us.202.0.bi_dev_guide_saql.meta/bi_dev_guide_saql/bi_saql_functions_aggregate.htm).\n",
    "\n",
    "## Grouping By\n",
    "\n",
    "Let's say you wanted to see how much revenue you got by Industry, you can use the `group by` statement, and don't forget to add the new dimension to the `foreach (...) generate (...)` statement."
   ]
  },
  {
   "cell_type": "code",
   "execution_count": 5,
   "metadata": {
    "collapsed": false
   },
   "outputs": [
    {
     "name": "stdout",
     "output_type": "stream",
     "text": [
      "User \"kim@waverocks.de\" running query on https://na30.salesforce.com\n"
     ]
    },
    {
     "data": {
      "text/html": [
       "<div>\n",
       "<table border=\"1\" class=\"dataframe\">\n",
       "  <thead>\n",
       "    <tr style=\"text-align: right;\">\n",
       "      <th></th>\n",
       "      <th>Industry</th>\n",
       "      <th>sum_Amount</th>\n",
       "    </tr>\n",
       "  </thead>\n",
       "  <tbody>\n",
       "    <tr>\n",
       "      <th>0</th>\n",
       "      <td>Agriculture</td>\n",
       "      <td>30320712.0</td>\n",
       "    </tr>\n",
       "    <tr>\n",
       "      <th>1</th>\n",
       "      <td>Apparel</td>\n",
       "      <td>58137493.0</td>\n",
       "    </tr>\n",
       "    <tr>\n",
       "      <th>2</th>\n",
       "      <td>Banking</td>\n",
       "      <td>75597347.0</td>\n",
       "    </tr>\n",
       "    <tr>\n",
       "      <th>3</th>\n",
       "      <td>Biotechnology</td>\n",
       "      <td>52154553.0</td>\n",
       "    </tr>\n",
       "    <tr>\n",
       "      <th>4</th>\n",
       "      <td>Communications</td>\n",
       "      <td>25145569.0</td>\n",
       "    </tr>\n",
       "    <tr>\n",
       "      <th>5</th>\n",
       "      <td>Consulting</td>\n",
       "      <td>39068681.0</td>\n",
       "    </tr>\n",
       "    <tr>\n",
       "      <th>6</th>\n",
       "      <td>Education</td>\n",
       "      <td>37887555.0</td>\n",
       "    </tr>\n",
       "    <tr>\n",
       "      <th>7</th>\n",
       "      <td>Electronics</td>\n",
       "      <td>44232929.0</td>\n",
       "    </tr>\n",
       "    <tr>\n",
       "      <th>8</th>\n",
       "      <td>Energy</td>\n",
       "      <td>69769895.0</td>\n",
       "    </tr>\n",
       "    <tr>\n",
       "      <th>9</th>\n",
       "      <td>Engineering</td>\n",
       "      <td>49627246.0</td>\n",
       "    </tr>\n",
       "    <tr>\n",
       "      <th>10</th>\n",
       "      <td>Finance</td>\n",
       "      <td>18038547.0</td>\n",
       "    </tr>\n",
       "    <tr>\n",
       "      <th>11</th>\n",
       "      <td>Healthcare</td>\n",
       "      <td>28778037.0</td>\n",
       "    </tr>\n",
       "    <tr>\n",
       "      <th>12</th>\n",
       "      <td>Insurance</td>\n",
       "      <td>50199615.0</td>\n",
       "    </tr>\n",
       "    <tr>\n",
       "      <th>13</th>\n",
       "      <td>Manufacturing</td>\n",
       "      <td>34163510.0</td>\n",
       "    </tr>\n",
       "    <tr>\n",
       "      <th>14</th>\n",
       "      <td>Media</td>\n",
       "      <td>30392380.0</td>\n",
       "    </tr>\n",
       "    <tr>\n",
       "      <th>15</th>\n",
       "      <td>Retail</td>\n",
       "      <td>28173929.0</td>\n",
       "    </tr>\n",
       "    <tr>\n",
       "      <th>16</th>\n",
       "      <td>Technology</td>\n",
       "      <td>47299632.0</td>\n",
       "    </tr>\n",
       "    <tr>\n",
       "      <th>17</th>\n",
       "      <td>Telecommunications</td>\n",
       "      <td>25389458.0</td>\n",
       "    </tr>\n",
       "    <tr>\n",
       "      <th>18</th>\n",
       "      <td>Transportation</td>\n",
       "      <td>31571715.0</td>\n",
       "    </tr>\n",
       "    <tr>\n",
       "      <th>19</th>\n",
       "      <td>Utilities</td>\n",
       "      <td>29441845.0</td>\n",
       "    </tr>\n",
       "  </tbody>\n",
       "</table>\n",
       "</div>"
      ],
      "text/plain": [
       "              Industry  sum_Amount\n",
       "0          Agriculture  30320712.0\n",
       "1              Apparel  58137493.0\n",
       "2              Banking  75597347.0\n",
       "3        Biotechnology  52154553.0\n",
       "4       Communications  25145569.0\n",
       "5           Consulting  39068681.0\n",
       "6            Education  37887555.0\n",
       "7          Electronics  44232929.0\n",
       "8               Energy  69769895.0\n",
       "9          Engineering  49627246.0\n",
       "10             Finance  18038547.0\n",
       "11          Healthcare  28778037.0\n",
       "12           Insurance  50199615.0\n",
       "13       Manufacturing  34163510.0\n",
       "14               Media  30392380.0\n",
       "15              Retail  28173929.0\n",
       "16          Technology  47299632.0\n",
       "17  Telecommunications  25389458.0\n",
       "18      Transportation  31571715.0\n",
       "19           Utilities  29441845.0"
      ]
     },
     "execution_count": 5,
     "metadata": {},
     "output_type": "execute_result"
    }
   ],
   "source": [
    "%%saql\n",
    "q = load \"opportunities\";\n",
    "q = group q by 'Account.Industry';\n",
    "q = foreach q generate 'Account.Industry' as Industry, sum('Amount') as 'sum_Amount';"
   ]
  },
  {
   "cell_type": "markdown",
   "metadata": {},
   "source": [
    "By default, it's ordering alphabetically on the grouped dimension, here Industry.\n",
    "\n",
    "## Order by\n",
    "\n",
    "Here is another example to order the most profitable industry on top:"
   ]
  },
  {
   "cell_type": "code",
   "execution_count": 7,
   "metadata": {
    "collapsed": false
   },
   "outputs": [
    {
     "name": "stdout",
     "output_type": "stream",
     "text": [
      "User \"kim@waverocks.de\" running query on https://na30.salesforce.com\n"
     ]
    },
    {
     "data": {
      "text/html": [
       "<div>\n",
       "<table border=\"1\" class=\"dataframe\">\n",
       "  <thead>\n",
       "    <tr style=\"text-align: right;\">\n",
       "      <th></th>\n",
       "      <th>Industry</th>\n",
       "      <th>sum_Amount</th>\n",
       "    </tr>\n",
       "  </thead>\n",
       "  <tbody>\n",
       "    <tr>\n",
       "      <th>0</th>\n",
       "      <td>Banking</td>\n",
       "      <td>75597347.0</td>\n",
       "    </tr>\n",
       "    <tr>\n",
       "      <th>1</th>\n",
       "      <td>Energy</td>\n",
       "      <td>69769895.0</td>\n",
       "    </tr>\n",
       "    <tr>\n",
       "      <th>2</th>\n",
       "      <td>Apparel</td>\n",
       "      <td>58137493.0</td>\n",
       "    </tr>\n",
       "    <tr>\n",
       "      <th>3</th>\n",
       "      <td>Biotechnology</td>\n",
       "      <td>52154553.0</td>\n",
       "    </tr>\n",
       "    <tr>\n",
       "      <th>4</th>\n",
       "      <td>Insurance</td>\n",
       "      <td>50199615.0</td>\n",
       "    </tr>\n",
       "    <tr>\n",
       "      <th>5</th>\n",
       "      <td>Engineering</td>\n",
       "      <td>49627246.0</td>\n",
       "    </tr>\n",
       "    <tr>\n",
       "      <th>6</th>\n",
       "      <td>Technology</td>\n",
       "      <td>47299632.0</td>\n",
       "    </tr>\n",
       "    <tr>\n",
       "      <th>7</th>\n",
       "      <td>Electronics</td>\n",
       "      <td>44232929.0</td>\n",
       "    </tr>\n",
       "    <tr>\n",
       "      <th>8</th>\n",
       "      <td>Consulting</td>\n",
       "      <td>39068681.0</td>\n",
       "    </tr>\n",
       "    <tr>\n",
       "      <th>9</th>\n",
       "      <td>Education</td>\n",
       "      <td>37887555.0</td>\n",
       "    </tr>\n",
       "    <tr>\n",
       "      <th>10</th>\n",
       "      <td>Manufacturing</td>\n",
       "      <td>34163510.0</td>\n",
       "    </tr>\n",
       "    <tr>\n",
       "      <th>11</th>\n",
       "      <td>Transportation</td>\n",
       "      <td>31571715.0</td>\n",
       "    </tr>\n",
       "    <tr>\n",
       "      <th>12</th>\n",
       "      <td>Media</td>\n",
       "      <td>30392380.0</td>\n",
       "    </tr>\n",
       "    <tr>\n",
       "      <th>13</th>\n",
       "      <td>Agriculture</td>\n",
       "      <td>30320712.0</td>\n",
       "    </tr>\n",
       "    <tr>\n",
       "      <th>14</th>\n",
       "      <td>Utilities</td>\n",
       "      <td>29441845.0</td>\n",
       "    </tr>\n",
       "    <tr>\n",
       "      <th>15</th>\n",
       "      <td>Healthcare</td>\n",
       "      <td>28778037.0</td>\n",
       "    </tr>\n",
       "    <tr>\n",
       "      <th>16</th>\n",
       "      <td>Retail</td>\n",
       "      <td>28173929.0</td>\n",
       "    </tr>\n",
       "    <tr>\n",
       "      <th>17</th>\n",
       "      <td>Telecommunications</td>\n",
       "      <td>25389458.0</td>\n",
       "    </tr>\n",
       "    <tr>\n",
       "      <th>18</th>\n",
       "      <td>Communications</td>\n",
       "      <td>25145569.0</td>\n",
       "    </tr>\n",
       "    <tr>\n",
       "      <th>19</th>\n",
       "      <td>Finance</td>\n",
       "      <td>18038547.0</td>\n",
       "    </tr>\n",
       "  </tbody>\n",
       "</table>\n",
       "</div>"
      ],
      "text/plain": [
       "              Industry  sum_Amount\n",
       "0              Banking  75597347.0\n",
       "1               Energy  69769895.0\n",
       "2              Apparel  58137493.0\n",
       "3        Biotechnology  52154553.0\n",
       "4            Insurance  50199615.0\n",
       "5          Engineering  49627246.0\n",
       "6           Technology  47299632.0\n",
       "7          Electronics  44232929.0\n",
       "8           Consulting  39068681.0\n",
       "9            Education  37887555.0\n",
       "10       Manufacturing  34163510.0\n",
       "11      Transportation  31571715.0\n",
       "12               Media  30392380.0\n",
       "13         Agriculture  30320712.0\n",
       "14           Utilities  29441845.0\n",
       "15          Healthcare  28778037.0\n",
       "16              Retail  28173929.0\n",
       "17  Telecommunications  25389458.0\n",
       "18      Communications  25145569.0\n",
       "19             Finance  18038547.0"
      ]
     },
     "execution_count": 7,
     "metadata": {},
     "output_type": "execute_result"
    }
   ],
   "source": [
    "%%saql\n",
    "q = load \"opportunities\";\n",
    "q = group q by 'Account.Industry';\n",
    "q = foreach q generate 'Account.Industry' as Industry, sum('Amount') as 'sum_Amount';\n",
    "q = order q by 'sum_Amount' desc;"
   ]
  },
  {
   "cell_type": "markdown",
   "metadata": {},
   "source": [
    "[>> Case Statement](/notebooks/case-statement)"
   ]
  }
 ],
 "metadata": {
  "kernelspec": {
   "display_name": "Python 3",
   "language": "python",
   "name": "python3"
  },
  "language_info": {
   "codemirror_mode": {
    "name": "ipython",
    "version": 3
   },
   "file_extension": ".py",
   "mimetype": "text/x-python",
   "name": "python",
   "nbconvert_exporter": "python",
   "pygments_lexer": "ipython3",
   "version": "3.5.1"
  }
 },
 "nbformat": 4,
 "nbformat_minor": 0
}
